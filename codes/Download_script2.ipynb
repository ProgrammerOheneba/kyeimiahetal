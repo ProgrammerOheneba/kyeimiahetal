{
 "cells": [
  {
   "cell_type": "code",
   "execution_count": 1,
   "id": "9529a98c-0e86-453f-9f11-a0746d09817a",
   "metadata": {},
   "outputs": [
    {
     "name": "stderr",
     "output_type": "stream",
     "text": [
      "/aos/home/tkyeimiah/miniconda3/envs/mypython_env/lib/python3.10/site-packages/urllib3/connectionpool.py:1045: InsecureRequestWarning: Unverified HTTPS request is being made to host 'datahub.geos.tamu.edu'. Adding certificate verification is strongly advised. See: https://urllib3.readthedocs.io/en/1.26.x/advanced-usage.html#ssl-warnings\n",
      "  warnings.warn(\n"
     ]
    },
    {
     "name": "stdout",
     "output_type": "stream",
     "text": [
      "Downloaded b.e13.BRCP85C5.ne120_t12.cesm-ihesp-hires1.0.31.003.cice.h.2100-01.nc\n"
     ]
    },
    {
     "name": "stderr",
     "output_type": "stream",
     "text": [
      "/aos/home/tkyeimiah/miniconda3/envs/mypython_env/lib/python3.10/site-packages/urllib3/connectionpool.py:1045: InsecureRequestWarning: Unverified HTTPS request is being made to host 'datahub.geos.tamu.edu'. Adding certificate verification is strongly advised. See: https://urllib3.readthedocs.io/en/1.26.x/advanced-usage.html#ssl-warnings\n",
      "  warnings.warn(\n"
     ]
    },
    {
     "name": "stdout",
     "output_type": "stream",
     "text": [
      "Downloaded b.e13.BRCP85C5.ne120_t12.cesm-ihesp-hires1.0.31.003.cice.h.2100-02.nc\n"
     ]
    },
    {
     "name": "stderr",
     "output_type": "stream",
     "text": [
      "/aos/home/tkyeimiah/miniconda3/envs/mypython_env/lib/python3.10/site-packages/urllib3/connectionpool.py:1045: InsecureRequestWarning: Unverified HTTPS request is being made to host 'datahub.geos.tamu.edu'. Adding certificate verification is strongly advised. See: https://urllib3.readthedocs.io/en/1.26.x/advanced-usage.html#ssl-warnings\n",
      "  warnings.warn(\n"
     ]
    },
    {
     "name": "stdout",
     "output_type": "stream",
     "text": [
      "Downloaded b.e13.BRCP85C5.ne120_t12.cesm-ihesp-hires1.0.31.003.cice.h.2100-03.nc\n"
     ]
    },
    {
     "name": "stderr",
     "output_type": "stream",
     "text": [
      "/aos/home/tkyeimiah/miniconda3/envs/mypython_env/lib/python3.10/site-packages/urllib3/connectionpool.py:1045: InsecureRequestWarning: Unverified HTTPS request is being made to host 'datahub.geos.tamu.edu'. Adding certificate verification is strongly advised. See: https://urllib3.readthedocs.io/en/1.26.x/advanced-usage.html#ssl-warnings\n",
      "  warnings.warn(\n"
     ]
    },
    {
     "name": "stdout",
     "output_type": "stream",
     "text": [
      "Downloaded b.e13.BRCP85C5.ne120_t12.cesm-ihesp-hires1.0.31.003.cice.h.2100-04.nc\n"
     ]
    },
    {
     "name": "stderr",
     "output_type": "stream",
     "text": [
      "/aos/home/tkyeimiah/miniconda3/envs/mypython_env/lib/python3.10/site-packages/urllib3/connectionpool.py:1045: InsecureRequestWarning: Unverified HTTPS request is being made to host 'datahub.geos.tamu.edu'. Adding certificate verification is strongly advised. See: https://urllib3.readthedocs.io/en/1.26.x/advanced-usage.html#ssl-warnings\n",
      "  warnings.warn(\n"
     ]
    },
    {
     "name": "stdout",
     "output_type": "stream",
     "text": [
      "Downloaded b.e13.BRCP85C5.ne120_t12.cesm-ihesp-hires1.0.31.003.cice.h.2100-05.nc\n"
     ]
    },
    {
     "name": "stderr",
     "output_type": "stream",
     "text": [
      "/aos/home/tkyeimiah/miniconda3/envs/mypython_env/lib/python3.10/site-packages/urllib3/connectionpool.py:1045: InsecureRequestWarning: Unverified HTTPS request is being made to host 'datahub.geos.tamu.edu'. Adding certificate verification is strongly advised. See: https://urllib3.readthedocs.io/en/1.26.x/advanced-usage.html#ssl-warnings\n",
      "  warnings.warn(\n"
     ]
    },
    {
     "name": "stdout",
     "output_type": "stream",
     "text": [
      "Downloaded b.e13.BRCP85C5.ne120_t12.cesm-ihesp-hires1.0.31.003.cice.h.2100-06.nc\n"
     ]
    },
    {
     "name": "stderr",
     "output_type": "stream",
     "text": [
      "/aos/home/tkyeimiah/miniconda3/envs/mypython_env/lib/python3.10/site-packages/urllib3/connectionpool.py:1045: InsecureRequestWarning: Unverified HTTPS request is being made to host 'datahub.geos.tamu.edu'. Adding certificate verification is strongly advised. See: https://urllib3.readthedocs.io/en/1.26.x/advanced-usage.html#ssl-warnings\n",
      "  warnings.warn(\n"
     ]
    },
    {
     "name": "stdout",
     "output_type": "stream",
     "text": [
      "Downloaded b.e13.BRCP85C5.ne120_t12.cesm-ihesp-hires1.0.31.003.cice.h.2100-07.nc\n"
     ]
    },
    {
     "name": "stderr",
     "output_type": "stream",
     "text": [
      "/aos/home/tkyeimiah/miniconda3/envs/mypython_env/lib/python3.10/site-packages/urllib3/connectionpool.py:1045: InsecureRequestWarning: Unverified HTTPS request is being made to host 'datahub.geos.tamu.edu'. Adding certificate verification is strongly advised. See: https://urllib3.readthedocs.io/en/1.26.x/advanced-usage.html#ssl-warnings\n",
      "  warnings.warn(\n"
     ]
    },
    {
     "name": "stdout",
     "output_type": "stream",
     "text": [
      "Downloaded b.e13.BRCP85C5.ne120_t12.cesm-ihesp-hires1.0.31.003.cice.h.2100-08.nc\n"
     ]
    },
    {
     "name": "stderr",
     "output_type": "stream",
     "text": [
      "/aos/home/tkyeimiah/miniconda3/envs/mypython_env/lib/python3.10/site-packages/urllib3/connectionpool.py:1045: InsecureRequestWarning: Unverified HTTPS request is being made to host 'datahub.geos.tamu.edu'. Adding certificate verification is strongly advised. See: https://urllib3.readthedocs.io/en/1.26.x/advanced-usage.html#ssl-warnings\n",
      "  warnings.warn(\n"
     ]
    },
    {
     "name": "stdout",
     "output_type": "stream",
     "text": [
      "Downloaded b.e13.BRCP85C5.ne120_t12.cesm-ihesp-hires1.0.31.003.cice.h.2100-09.nc\n"
     ]
    },
    {
     "name": "stderr",
     "output_type": "stream",
     "text": [
      "/aos/home/tkyeimiah/miniconda3/envs/mypython_env/lib/python3.10/site-packages/urllib3/connectionpool.py:1045: InsecureRequestWarning: Unverified HTTPS request is being made to host 'datahub.geos.tamu.edu'. Adding certificate verification is strongly advised. See: https://urllib3.readthedocs.io/en/1.26.x/advanced-usage.html#ssl-warnings\n",
      "  warnings.warn(\n"
     ]
    },
    {
     "name": "stdout",
     "output_type": "stream",
     "text": [
      "Downloaded b.e13.BRCP85C5.ne120_t12.cesm-ihesp-hires1.0.31.003.cice.h.2100-10.nc\n"
     ]
    },
    {
     "name": "stderr",
     "output_type": "stream",
     "text": [
      "/aos/home/tkyeimiah/miniconda3/envs/mypython_env/lib/python3.10/site-packages/urllib3/connectionpool.py:1045: InsecureRequestWarning: Unverified HTTPS request is being made to host 'datahub.geos.tamu.edu'. Adding certificate verification is strongly advised. See: https://urllib3.readthedocs.io/en/1.26.x/advanced-usage.html#ssl-warnings\n",
      "  warnings.warn(\n"
     ]
    },
    {
     "name": "stdout",
     "output_type": "stream",
     "text": [
      "Downloaded b.e13.BRCP85C5.ne120_t12.cesm-ihesp-hires1.0.31.003.cice.h.2100-11.nc\n"
     ]
    },
    {
     "name": "stderr",
     "output_type": "stream",
     "text": [
      "/aos/home/tkyeimiah/miniconda3/envs/mypython_env/lib/python3.10/site-packages/urllib3/connectionpool.py:1045: InsecureRequestWarning: Unverified HTTPS request is being made to host 'datahub.geos.tamu.edu'. Adding certificate verification is strongly advised. See: https://urllib3.readthedocs.io/en/1.26.x/advanced-usage.html#ssl-warnings\n",
      "  warnings.warn(\n"
     ]
    },
    {
     "name": "stdout",
     "output_type": "stream",
     "text": [
      "Downloaded b.e13.BRCP85C5.ne120_t12.cesm-ihesp-hires1.0.31.003.cice.h.2100-12.nc\n",
      "Download completed.\n"
     ]
    }
   ],
   "source": [
    "import requests\n",
    "import os\n",
    "import time\n",
    "\n",
    "# Base URL for the data files\n",
    "#base_url = \"https://datahub.geos.tamu.edu:8880/thredds/fileServer/iHESPDataHUB/TNST_ensembles/b.e13.BHISTC5.ne120_t12.cesm-ihesp-hires1.0.30-1920-2100.002/ice/hist/\"\n",
    "#base_url = \"https://datahub.geos.tamu.edu:8880/thredds/fileServer/iHESPDataHUB/TNST_ensembles/b.e13.BHISTC5.ne120_t12.cesm-ihesp-hires1.0.30-1920-2100.003/ice/hist/\"\n",
    "base_url = \"https://datahub.geos.tamu.edu:8880/thredds/fileServer/iHESPDataHUB/TNST_ensembles/b.e13.BRCP85C5.ne120_t12.cesm-ihesp-hires1.0.31.003/ice/hist/\"\n",
    "# Directory where the downloaded files will be saved\n",
    "save_path = '/storage2/tkyeimiah/iHESP/EM3/proj'\n",
    "\n",
    "# Check if the directory exists, if not, create it\n",
    "if not os.path.exists(save_path):\n",
    "    os.makedirs(save_path)\n",
    "\n",
    "# Loop through the years and months to build the URLs\n",
    "for year in range(2100,2101):\n",
    "    for month in range(1, 13):\n",
    "        # Construct the filename for each month and year\n",
    "        filename = f\"b.e13.BRCP85C5.ne120_t12.cesm-ihesp-hires1.0.31.003.cice.h.{year}-{month:02}.nc\"\n",
    "                     #b.e13.BHISTC5.ne120_t12.cesm-ihesp-hires1.0.30-1920-2100.003.cice.h.2005-12.nc\n",
    "        #filename = f\"b.e13.BHISTC5.ne120_t12.cesm-ihesp-hires1.0.30-1920-2100.002.cice.h.2005-12.nc\"\n",
    "        full_url = base_url + filename\n",
    "        \n",
    "        # Download the file\n",
    "        response = requests.get(full_url, stream=True, verify=False)  # Disabled SSL verification for demonstration\n",
    "        \n",
    "        # Save the file if the request was successful\n",
    "        if response.status_code == 200:\n",
    "            with open(os.path.join(save_path, filename), 'wb') as file:\n",
    "                for chunk in response.iter_content(chunk_size=1024):\n",
    "                    file.write(chunk)\n",
    "            print(f\"Downloaded {filename}\")\n",
    "        else:\n",
    "            print(f\"Failed to download {filename}\")\n",
    "        \n",
    "        # Introduce a delay to prevent overwhelming the server\n",
    "        time.sleep(2)\n",
    "\n",
    "print(\"Download completed.\")\n"
   ]
  },
  {
   "cell_type": "code",
   "execution_count": null,
   "id": "dd661bbf-0a28-492e-b350-d7ec0652b9ed",
   "metadata": {},
   "outputs": [],
   "source": []
  }
 ],
 "metadata": {
  "kernelspec": {
   "display_name": "Python 3 (ipykernel)",
   "language": "python",
   "name": "python3"
  },
  "language_info": {
   "codemirror_mode": {
    "name": "ipython",
    "version": 3
   },
   "file_extension": ".py",
   "mimetype": "text/x-python",
   "name": "python",
   "nbconvert_exporter": "python",
   "pygments_lexer": "ipython3",
   "version": "3.10.6"
  }
 },
 "nbformat": 4,
 "nbformat_minor": 5
}
